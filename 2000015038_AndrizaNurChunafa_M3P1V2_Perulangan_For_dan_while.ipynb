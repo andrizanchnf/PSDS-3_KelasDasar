{
  "nbformat": 4,
  "nbformat_minor": 0,
  "metadata": {
    "colab": {
      "name": "2000015038_AndrizaNurChunafa_M3P1V2_Perulangan_For_dan_while.ipynb",
      "provenance": [],
      "collapsed_sections": [],
      "authorship_tag": "ABX9TyOqVtp27aevZn50CCb94580",
      "include_colab_link": true
    },
    "kernelspec": {
      "name": "python3",
      "display_name": "Python 3"
    },
    "language_info": {
      "name": "python"
    }
  },
  "cells": [
    {
      "cell_type": "markdown",
      "metadata": {
        "id": "view-in-github",
        "colab_type": "text"
      },
      "source": [
        "<a href=\"https://colab.research.google.com/github/andrizanchnf/PSDS-3_KelasDasar/blob/main/2000015038_AndrizaNurChunafa_M3P1V2_Perulangan_For_dan_while.ipynb\" target=\"_parent\"><img src=\"https://colab.research.google.com/assets/colab-badge.svg\" alt=\"Open In Colab\"/></a>"
      ]
    },
    {
      "cell_type": "markdown",
      "metadata": {
        "id": "gt6GyUkY4Pzx"
      },
      "source": [
        "### Looping/Perulangan"
      ]
    },
    {
      "cell_type": "markdown",
      "metadata": {
        "id": "FD21tlBa4XFH"
      },
      "source": [
        "Python menyediakan dua statement untuk melakukan proses perulangan yaitu for dan while. Diantara kedua statement ini, secara umum for lebih banyak digunakan daripada while."
      ]
    },
    {
      "cell_type": "markdown",
      "metadata": {
        "id": "EhxmSsLt5Trz"
      },
      "source": [
        "### For Loop"
      ]
    },
    {
      "cell_type": "markdown",
      "metadata": {
        "id": "qAsgcIPd5Wrg"
      },
      "source": [
        "Perulangan `for` digunakan untuk melakukan iterasi didalam `sequence` seperti `list`, `tuple`, `string`, dan `array` atau objek yang dapat diiterasi lainnya.\n",
        "\n"
      ]
    },
    {
      "cell_type": "markdown",
      "metadata": {
        "id": "ckmfAuYd51tl"
      },
      "source": [
        "**For Loop Syntax**"
      ]
    },
    {
      "cell_type": "markdown",
      "metadata": {
        "id": "AG6VyIRw6SFy"
      },
      "source": [
        "\n",
        "\n",
        "```\n",
        "for val in sequnece:\n",
        "    loop body\n"
      ]
    },
    {
      "cell_type": "markdown",
      "metadata": {
        "id": "J8FY2xOw6Q0C"
      },
      "source": [
        "**For Loop Flowchart**"
      ]
    },
    {
      "cell_type": "markdown",
      "metadata": {
        "id": "GmgyZOpkdUCB"
      },
      "source": [
        "![image.png](data:image/png;base64,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)"
      ]
    },
    {
      "cell_type": "markdown",
      "metadata": {
        "id": "KDgKNyRf7DBx"
      },
      "source": [
        "**Example: Python for Loop**"
      ]
    },
    {
      "cell_type": "code",
      "metadata": {
        "colab": {
          "base_uri": "https://localhost:8080/"
        },
        "id": "5rc_UiAf6o3t",
        "outputId": "8f2a1556-3a7d-4896-f54d-d86f4dad15f5"
      },
      "source": [
        "# Program untuk menghitung jumlah semua angka dalam sebuah list\n",
        "L1 = [2, 4, 5, 7, 9]\n",
        "jumlah = 0\n",
        "\n",
        "# iterasi didalam list\n",
        "for i in L1:\n",
        "  jumlah = jumlah + i\n",
        "\n",
        "print(jumlah)"
      ],
      "execution_count": null,
      "outputs": [
        {
          "output_type": "stream",
          "name": "stdout",
          "text": [
            "27\n"
          ]
        }
      ]
    },
    {
      "cell_type": "markdown",
      "metadata": {
        "id": "2hW304xo70Zf"
      },
      "source": [
        "### **The range() function**"
      ]
    },
    {
      "cell_type": "code",
      "metadata": {
        "colab": {
          "base_uri": "https://localhost:8080/"
        },
        "id": "dY6sjFBs7_81",
        "outputId": "528c346f-595e-4cda-87cc-443d4f9c5458"
      },
      "source": [
        "# Program untuk melakukan iterasi didalam list melalui indeks\n",
        "minuman = [\"teh\", \"boba\", \"kopi\", \"susu\"]\n",
        "p = len(minuman)\n",
        "\n",
        "# iterasi didalam list melalui indeks\n",
        "for i in range(p):\n",
        "  print(minuman[i])"
      ],
      "execution_count": null,
      "outputs": [
        {
          "output_type": "stream",
          "name": "stdout",
          "text": [
            "teh\n",
            "boba\n",
            "kopi\n",
            "susu\n"
          ]
        }
      ]
    },
    {
      "cell_type": "markdown",
      "metadata": {
        "id": "TLFqwIbn8jmj"
      },
      "source": [
        "### **for loop with else**"
      ]
    },
    {
      "cell_type": "code",
      "metadata": {
        "colab": {
          "base_uri": "https://localhost:8080/"
        },
        "id": "W181ym118n9u",
        "outputId": "190ccc98-00c9-47ca-be52-a760759f237f"
      },
      "source": [
        "# Contoh for loop menggunakan else\n",
        "for i in range(p):\n",
        "  print(minuman[i])\n",
        "else:\n",
        "  print(\"Elemen sudah habis\")"
      ],
      "execution_count": null,
      "outputs": [
        {
          "output_type": "stream",
          "name": "stdout",
          "text": [
            "teh\n",
            "boba\n",
            "kopi\n",
            "susu\n",
            "Elemen sudah habis\n"
          ]
        }
      ]
    },
    {
      "cell_type": "markdown",
      "metadata": {
        "id": "fjIz9ab_851m"
      },
      "source": [
        "### Latihan 1"
      ]
    },
    {
      "cell_type": "markdown",
      "metadata": {
        "id": "6hSROyTu9bYI"
      },
      "source": [
        "Diberikan `list_tagihan`. Kamu diminta untuk menghitung jumlah seluruh tagihan. Gunakan `for` untuk menyelesaikan tugas ini! Simpan hasilnya pada variabel `total_tagihan`!\n",
        "\n",
        "```\n",
        "list_tagihan = [50000, 75000, -150000, 125000, 200000, -50000, 200000]\n",
        "```\n",
        "\n"
      ]
    },
    {
      "cell_type": "code",
      "metadata": {
        "colab": {
          "base_uri": "https://localhost:8080/"
        },
        "id": "bssjAUtH-FL8",
        "outputId": "63a34c84-dd75-4c73-983c-6c4c666cef97"
      },
      "source": [
        "list_tagihan = [50000, 75000, -150000, 125000, 200000, -50000, 200000]\n",
        "total_tagihan = 0\n",
        "\n",
        "for i in list_tagihan:\n",
        "  total_tagihan = total_tagihan + i\n",
        "\n",
        "print(total_tagihan)"
      ],
      "execution_count": null,
      "outputs": [
        {
          "output_type": "stream",
          "name": "stdout",
          "text": [
            "450000\n"
          ]
        }
      ]
    },
    {
      "cell_type": "markdown",
      "metadata": {
        "id": "F3DmuWu7_BX0"
      },
      "source": [
        "### While Loop"
      ]
    },
    {
      "cell_type": "markdown",
      "metadata": {
        "id": "QNil3qH4_EZy"
      },
      "source": [
        "While Loop pada python digunakan untuk melakukan iterasi pada blok kode selama nilai dari `test expression` adalah `true`."
      ]
    },
    {
      "cell_type": "markdown",
      "metadata": {
        "id": "QG7WFFrE_U5P"
      },
      "source": [
        "**Syntax of while Loop in Python**\n",
        "\n",
        "```\n",
        "while test_expression:\n",
        "    Body of while\n",
        "```\n",
        "\n"
      ]
    },
    {
      "cell_type": "markdown",
      "metadata": {
        "id": "63wjr4sL_wSR"
      },
      "source": [
        "**While Loop Flowchart**"
      ]
    },
    {
      "cell_type": "markdown",
      "metadata": {
        "id": "40jpcPHsdech"
      },
      "source": [
        "![image.png](data:image/png;base64,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)"
      ]
    },
    {
      "cell_type": "markdown",
      "metadata": {
        "id": "VrslwSTt_3TX"
      },
      "source": [
        "**Example: Python while Loop**"
      ]
    },
    {
      "cell_type": "code",
      "metadata": {
        "colab": {
          "base_uri": "https://localhost:8080/"
        },
        "id": "guCotZ3tAlk7",
        "outputId": "5a2b3502-3714-4ac6-c694-538c250c0c7d"
      },
      "source": [
        "# Program untuk menjumlahkan semua bilangan asli hingga suku ke-n\n",
        "# jum = 1+2+3+...+n\n",
        "\n",
        "n = 10\n",
        "jumlah = 0\n",
        "i = 1\n",
        "\n",
        "while i <= n:\n",
        "  jumlah = jumlah + i\n",
        "  i = i + 1\n",
        "\n",
        "print(jumlah)"
      ],
      "execution_count": null,
      "outputs": [
        {
          "output_type": "stream",
          "name": "stdout",
          "text": [
            "55\n"
          ]
        }
      ]
    },
    {
      "cell_type": "markdown",
      "metadata": {
        "id": "IQYSwq14BJ8l"
      },
      "source": [
        "### **While loop with else**"
      ]
    },
    {
      "cell_type": "markdown",
      "metadata": {
        "id": "kZoJInt7BeAz"
      },
      "source": [
        "Sama dengan `for` loop kita juga dapat mengkombinasikan `while` loop dengan blok `else`."
      ]
    },
    {
      "cell_type": "markdown",
      "metadata": {
        "id": "z_YOEX90Bolm"
      },
      "source": [
        "Bagian `else` akan dieksekusi jika nilai pada `test expression` pada `while loop` bernilai `False`. Perhatikan contoh berikut:"
      ]
    },
    {
      "cell_type": "code",
      "metadata": {
        "colab": {
          "base_uri": "https://localhost:8080/"
        },
        "id": "m9bnFItGB-W4",
        "outputId": "4ed02479-8be2-4e7b-9834-b50fde871ad6"
      },
      "source": [
        "jum = 0\n",
        "i = 1\n",
        "while i <= n:\n",
        "  jum = jum + i\n",
        "  i = i + 1\n",
        "else:\n",
        "  print(jum) #dieksekusi diluar looping"
      ],
      "execution_count": null,
      "outputs": [
        {
          "output_type": "stream",
          "name": "stdout",
          "text": [
            "55\n"
          ]
        }
      ]
    },
    {
      "cell_type": "markdown",
      "metadata": {
        "id": "7swhMNAtCTBn"
      },
      "source": [
        "### Latihan 2"
      ]
    },
    {
      "cell_type": "markdown",
      "metadata": {
        "id": "-kvHjceqCVvE"
      },
      "source": [
        "Diberikan list `tagihan`. Hitunglah `total_tagihan` menggunakan `while_loop`."
      ]
    },
    {
      "cell_type": "code",
      "metadata": {
        "colab": {
          "base_uri": "https://localhost:8080/"
        },
        "id": "BDeB6llGdlai",
        "outputId": "f0121646-f902-438d-90e1-f13eb4c2b6c8"
      },
      "source": [
        "tagihan = [50000, 75000, 125000, 300000, 200000]\n",
        "i = 0\n",
        "total_tagihan = 0\n",
        "while i < len(tagihan):\n",
        "  total_tagihan = total_tagihan + tagihan[i]\n",
        "  i = i + 1\n",
        "print(total_tagihan)"
      ],
      "execution_count": null,
      "outputs": [
        {
          "output_type": "stream",
          "name": "stdout",
          "text": [
            "750000\n"
          ]
        }
      ]
    }
  ]
}