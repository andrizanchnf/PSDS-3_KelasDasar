{
  "nbformat": 4,
  "nbformat_minor": 0,
  "metadata": {
    "colab": {
      "name": "Latihan_M1P2V1_Operator_Andriza_N_C_2000015038.ipynb",
      "provenance": [],
      "collapsed_sections": [],
      "authorship_tag": "ABX9TyMBgHQ/RGLRZGGdcL3rl7l2",
      "include_colab_link": true
    },
    "kernelspec": {
      "name": "python3",
      "display_name": "Python 3"
    },
    "language_info": {
      "name": "python"
    }
  },
  "cells": [
    {
      "cell_type": "markdown",
      "metadata": {
        "id": "view-in-github",
        "colab_type": "text"
      },
      "source": [
        "<a href=\"https://colab.research.google.com/github/andrizanchnf/PSDS-3_KelasDasar/blob/main/Latihan_M1P2V1_Operator_Andriza_N_C_2000015038.ipynb\" target=\"_parent\"><img src=\"https://colab.research.google.com/assets/colab-badge.svg\" alt=\"Open In Colab\"/></a>"
      ]
    },
    {
      "cell_type": "markdown",
      "metadata": {
        "id": "JgCr1Tj_hAQP"
      },
      "source": [
        "Latihan Oprator 1"
      ]
    },
    {
      "cell_type": "code",
      "metadata": {
        "id": "8YT5mCLIg3CC"
      },
      "source": [
        "# operator aritmatika\n",
        "\n",
        "#Penjumlahan\n",
        "print('Penjumlahan')\n",
        "print(9+5)\n",
        "#Pengurangan\n",
        "print('-'*20)\n",
        "print('Pengurangan')\n",
        "print(9-5)\n",
        "#Perkalian\n",
        "print('-'*20)\n",
        "print('Perkalian')\n",
        "print(9*5)\n",
        "#Pembagian\n",
        "print('-'*20)\n",
        "print('Pembagian')\n",
        "print(9/5)\n",
        "#Modulus\n",
        "print('-'*20)\n",
        "print('Modulus')\n",
        "print(9%5)\n",
        "#Perpangkatan\n",
        "print('-'*20)\n",
        "print('Perpangkatan')\n",
        "print(9**5)\n",
        "#Pembagian Pembulatan Flooring\n",
        "print('-'*20)\n",
        "print('Pembagian Pembulatan Flooring')\n",
        "print(9//5)"
      ],
      "execution_count": null,
      "outputs": []
    },
    {
      "cell_type": "markdown",
      "metadata": {
        "id": "c6Vpj1I9iVVX"
      },
      "source": [
        "Latihan Operator 2"
      ]
    },
    {
      "cell_type": "code",
      "metadata": {
        "id": "3ky3aGIHiYOP"
      },
      "source": [
        "# operator assignment\n",
        "\n",
        "# Penjumlahan\n",
        "print('Penjumlahan')\n",
        "x=9\n",
        "x=x+9\n",
        "print(x)\n",
        "x=9\n",
        "x+=7\n",
        "print(x)\n",
        "print('-'*20)\n",
        "\n",
        "# Pengurangan\n",
        "print('Pengurangan')\n",
        "x=9\n",
        "x=x-9\n",
        "print(x)\n",
        "x=9\n",
        "x-=7\n",
        "print(x)\n",
        "print('-'*20)\n",
        "\n",
        "# Perkalian\n",
        "print('Perkalian')\n",
        "x=9\n",
        "x=x*9\n",
        "print(x)\n",
        "x=9\n",
        "x*=7\n",
        "print(x)\n",
        "print('-'*20)\n",
        "\n",
        "# Pembagian\n",
        "print('Pembagian')\n",
        "x=9\n",
        "x=x/9\n",
        "print(x)\n",
        "x=9\n",
        "x/=7\n",
        "print(x)\n",
        "print('-'*20)\n",
        "\n",
        "# Modulus\n",
        "print('Modulus')\n",
        "x=9\n",
        "x=x%9\n",
        "print(x)\n",
        "x=9\n",
        "x%=7\n",
        "print(x)\n",
        "print('-'*20)\n",
        "\n",
        "# Pembagian Flooring\n",
        "print('Pembagian Flooring')\n",
        "x=9\n",
        "x=x//9\n",
        "print(x)\n",
        "x=9\n",
        "x//=7\n",
        "print(x)\n",
        "print('-'*20)\n",
        "\n",
        "# Perpangkatan\n",
        "print('Perpangkatan')\n",
        "x=9\n",
        "x=x**9\n",
        "print(x)\n",
        "x=9\n",
        "x**=7\n",
        "print(x)\n",
        "print('-'*20)"
      ],
      "execution_count": null,
      "outputs": []
    },
    {
      "cell_type": "markdown",
      "metadata": {
        "id": "OA0FeUTQjim7"
      },
      "source": [
        "Latihan operator 3"
      ]
    },
    {
      "cell_type": "code",
      "metadata": {
        "id": "mHAysU7_jk1u"
      },
      "source": [
        "# operator pembanding\n",
        "\n",
        "print(7==7)\n",
        "print(7!=7)\n",
        "print(7>7)\n",
        "print(7<7)\n",
        "print(7>=7)\n",
        "print(7<=7)"
      ],
      "execution_count": null,
      "outputs": []
    },
    {
      "cell_type": "markdown",
      "metadata": {
        "id": "hDfRVfUgj3QC"
      },
      "source": [
        "Latihan operator 4"
      ]
    },
    {
      "cell_type": "code",
      "metadata": {
        "id": "-RTU6k7Sj6_B"
      },
      "source": [
        "# operator logika\n",
        "\n",
        "print(False and True)\n",
        "print(True or True)\n",
        "print(not True and False)"
      ],
      "execution_count": null,
      "outputs": []
    },
    {
      "cell_type": "markdown",
      "metadata": {
        "id": "jU83TwnqkhbU"
      },
      "source": [
        "Latihan operator 5"
      ]
    },
    {
      "cell_type": "code",
      "metadata": {
        "id": "4rzwUCoekjl4"
      },
      "source": [
        "# operator keanggotaan\n",
        "\n",
        "a=(1,3,6,7,9)\n",
        "b=7\n",
        "\n",
        "print(b in a)\n",
        "\n",
        "print('-'*20)\n",
        "a=(1,3,6,7,9)\n",
        "b=2\n",
        "print(b not in a)"
      ],
      "execution_count": null,
      "outputs": []
    }
  ]
}