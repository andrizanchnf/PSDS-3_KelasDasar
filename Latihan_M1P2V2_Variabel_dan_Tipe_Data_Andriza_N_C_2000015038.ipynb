{
  "nbformat": 4,
  "nbformat_minor": 0,
  "metadata": {
    "colab": {
      "name": "Latihan_M1P2V2_Variabel_dan_Tipe_Data_Andriza_N_C_2000015038.ipynb",
      "provenance": [],
      "collapsed_sections": [],
      "authorship_tag": "ABX9TyMtW7p5rp9OdDTaH5e4GreB",
      "include_colab_link": true
    },
    "kernelspec": {
      "name": "python3",
      "display_name": "Python 3"
    },
    "language_info": {
      "name": "python"
    }
  },
  "cells": [
    {
      "cell_type": "markdown",
      "metadata": {
        "id": "view-in-github",
        "colab_type": "text"
      },
      "source": [
        "<a href=\"https://colab.research.google.com/github/andrizanchnf/PSDS-3_KelasDasar/blob/main/Latihan_M1P2V2_Variabel_dan_Tipe_Data_Andriza_N_C_2000015038.ipynb\" target=\"_parent\"><img src=\"https://colab.research.google.com/assets/colab-badge.svg\" alt=\"Open In Colab\"/></a>"
      ]
    },
    {
      "cell_type": "markdown",
      "metadata": {
        "id": "cfbK-6Y9lWHw"
      },
      "source": [
        "Latihan 1 (Variabel)"
      ]
    },
    {
      "cell_type": "code",
      "metadata": {
        "id": "lB-XnlOJlPsn"
      },
      "source": [
        "kalimat = 'latihan 1 variabel'\n",
        "data1 = 7\n",
        "data2 = 1.3\n",
        "data3 = True\n",
        "data4 = 3j + 9"
      ],
      "execution_count": null,
      "outputs": []
    },
    {
      "cell_type": "code",
      "metadata": {
        "colab": {
          "base_uri": "https://localhost:8080/"
        },
        "id": "7wdxe0yNDmMQ",
        "outputId": "db325c5e-51c4-4767-fac7-a0230e8234cd"
      },
      "source": [
        "print(kalimat)\n",
        "print(data1)\n",
        "print(data2)"
      ],
      "execution_count": null,
      "outputs": [
        {
          "output_type": "stream",
          "name": "stdout",
          "text": [
            "latihan 1 variabel\n",
            "7\n",
            "1.3\n"
          ]
        }
      ]
    },
    {
      "cell_type": "markdown",
      "metadata": {
        "id": "_J6FCuQ3EJWY"
      },
      "source": [
        "Latihan 2 (Tipe Data)"
      ]
    },
    {
      "cell_type": "code",
      "metadata": {
        "colab": {
          "base_uri": "https://localhost:8080/"
        },
        "id": "-z_Na4eAENNL",
        "outputId": "151914f3-6c93-4b82-ed44-d81ca05e555f"
      },
      "source": [
        "print(type(kalimat))\n",
        "print(type(data1))\n",
        "print(type(data2))\n",
        "print(type(data3))\n",
        "print(type(data4))"
      ],
      "execution_count": null,
      "outputs": [
        {
          "output_type": "stream",
          "name": "stdout",
          "text": [
            "<class 'str'>\n",
            "<class 'int'>\n",
            "<class 'float'>\n",
            "<class 'bool'>\n",
            "<class 'complex'>\n"
          ]
        }
      ]
    },
    {
      "cell_type": "markdown",
      "metadata": {
        "id": "Hd7XkINeFa5Y"
      },
      "source": [
        "Latihan 3 (Konversi Tipe Data)"
      ]
    },
    {
      "cell_type": "code",
      "metadata": {
        "colab": {
          "base_uri": "https://localhost:8080/"
        },
        "id": "h6kW4P_DFfHl",
        "outputId": "3dd84e0b-e39a-419b-e18d-f93594346c88"
      },
      "source": [
        "# konversi tipe data integer\n",
        "print(int(data2))\n",
        "print(int(data3))"
      ],
      "execution_count": null,
      "outputs": [
        {
          "output_type": "stream",
          "name": "stdout",
          "text": [
            "1\n",
            "1\n"
          ]
        }
      ]
    },
    {
      "cell_type": "code",
      "metadata": {
        "colab": {
          "base_uri": "https://localhost:8080/"
        },
        "id": "ipH-4C4pFnMN",
        "outputId": "5b10208e-9a57-4612-cae7-ac4bce23041a"
      },
      "source": [
        "# konversi tipe data float\n",
        "print(float(data1))\n",
        "print(float(data3))"
      ],
      "execution_count": null,
      "outputs": [
        {
          "output_type": "stream",
          "name": "stdout",
          "text": [
            "7.0\n",
            "1.0\n"
          ]
        }
      ]
    },
    {
      "cell_type": "code",
      "metadata": {
        "colab": {
          "base_uri": "https://localhost:8080/"
        },
        "id": "9th2C_2FFq9I",
        "outputId": "1395b607-a74b-4070-ba29-78561ee820e0"
      },
      "source": [
        "# konversi tipe data string\n",
        "print(str(data1))\n",
        "print(str(data2))\n",
        "print(str(data3))"
      ],
      "execution_count": null,
      "outputs": [
        {
          "output_type": "stream",
          "name": "stdout",
          "text": [
            "7\n",
            "1.3\n",
            "True\n"
          ]
        }
      ]
    },
    {
      "cell_type": "code",
      "metadata": {
        "colab": {
          "base_uri": "https://localhost:8080/"
        },
        "id": "cjKeprKSFsqg",
        "outputId": "5aa62701-67b4-48ab-9079-41ddf12251a9"
      },
      "source": [
        "# konversi tipe data bool\n",
        "print(bool(data1))\n",
        "print(bool(data2))"
      ],
      "execution_count": null,
      "outputs": [
        {
          "output_type": "stream",
          "name": "stdout",
          "text": [
            "True\n",
            "True\n"
          ]
        }
      ]
    },
    {
      "cell_type": "code",
      "metadata": {
        "colab": {
          "base_uri": "https://localhost:8080/"
        },
        "id": "_MhSiVXZFwSQ",
        "outputId": "47a2991d-2f55-4749-b490-5685e4dbc527"
      },
      "source": [
        "# konversi tipe data complex\n",
        "print(complex(data1))\n",
        "print(complex(data2))\n",
        "print(complex(data3))"
      ],
      "execution_count": null,
      "outputs": [
        {
          "output_type": "stream",
          "name": "stdout",
          "text": [
            "(7+0j)\n",
            "(1.3+0j)\n",
            "(1+0j)\n"
          ]
        }
      ]
    }
  ]
}