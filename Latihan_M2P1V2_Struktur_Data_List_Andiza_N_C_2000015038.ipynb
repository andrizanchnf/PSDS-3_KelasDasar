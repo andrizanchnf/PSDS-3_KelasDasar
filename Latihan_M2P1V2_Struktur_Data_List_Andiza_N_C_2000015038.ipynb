{
  "nbformat": 4,
  "nbformat_minor": 0,
  "metadata": {
    "colab": {
      "name": "Latihan_M2P1V2_Struktur_Data_List_Andiza_N_C_2000015038.ipynb",
      "provenance": [],
      "collapsed_sections": [],
      "authorship_tag": "ABX9TyOdodkpZlqGIun+CDGppMqK",
      "include_colab_link": true
    },
    "kernelspec": {
      "name": "python3",
      "display_name": "Python 3"
    },
    "language_info": {
      "name": "python"
    }
  },
  "cells": [
    {
      "cell_type": "markdown",
      "metadata": {
        "id": "view-in-github",
        "colab_type": "text"
      },
      "source": [
        "<a href=\"https://colab.research.google.com/github/andrizanchnf/PSDS-3_KelasDasar/blob/main/Latihan_M2P1V2_Struktur_Data_List_Andiza_N_C_2000015038.ipynb\" target=\"_parent\"><img src=\"https://colab.research.google.com/assets/colab-badge.svg\" alt=\"Open In Colab\"/></a>"
      ]
    },
    {
      "cell_type": "markdown",
      "metadata": {
        "id": "rhu_FMX1lWn-"
      },
      "source": [
        "Latihan 1"
      ]
    },
    {
      "cell_type": "code",
      "metadata": {
        "colab": {
          "base_uri": "https://localhost:8080/"
        },
        "id": "uqz_dNkrlJ2h",
        "outputId": "f0043d19-126b-4afc-ba41-b63906aea61f"
      },
      "source": [
        "#Membuat List\n",
        "\n",
        "S1 = [0, 3, 7, 9]\n",
        "print(type(S1))"
      ],
      "execution_count": null,
      "outputs": [
        {
          "output_type": "stream",
          "name": "stdout",
          "text": [
            "<class 'list'>\n"
          ]
        }
      ]
    },
    {
      "cell_type": "code",
      "metadata": {
        "colab": {
          "base_uri": "https://localhost:8080/"
        },
        "id": "i3hAHW6zpTJA",
        "outputId": "51d28385-0209-4365-ae5b-f3522e747956"
      },
      "source": [
        "S2 = [\"b\",\"Latihan\",13]\n",
        "S2"
      ],
      "execution_count": null,
      "outputs": [
        {
          "output_type": "execute_result",
          "data": {
            "text/plain": [
              "['b', 'Latihan', 13]"
            ]
          },
          "metadata": {},
          "execution_count": 2
        }
      ]
    },
    {
      "cell_type": "code",
      "metadata": {
        "colab": {
          "base_uri": "https://localhost:8080/"
        },
        "id": "fCkvl2A_pX3k",
        "outputId": "8ed369bd-d3ac-48a8-a025-4b4e4dac928a"
      },
      "source": [
        "print(S1)\n",
        "print(S2)"
      ],
      "execution_count": null,
      "outputs": [
        {
          "output_type": "stream",
          "name": "stdout",
          "text": [
            "[0, 3, 7, 9]\n",
            "['b', 'Latihan', 13]\n"
          ]
        }
      ]
    },
    {
      "cell_type": "markdown",
      "metadata": {
        "id": "lYhPpsXFpbmC"
      },
      "source": [
        "Latihan 2"
      ]
    },
    {
      "cell_type": "code",
      "metadata": {
        "colab": {
          "base_uri": "https://localhost:8080/"
        },
        "id": "7jD-xC3spdC6",
        "outputId": "16cc48f1-959f-459e-d4e4-54328e1e56e1"
      },
      "source": [
        "#Sifat-sifat List\n",
        "\n",
        "#Terurut/Ordered\n",
        "print(\"Memanggil List S1 dengan indeks urutan:\", S1[0:3])\n",
        "\n",
        "#Bisa Diganti/Mutable\n",
        "S1[1] = 1\n",
        "print(\"List S1 setelah diganti elemennya:\", S1)\n",
        "\n",
        "S1 = [0, \"satu\", True, 1+3j]\n",
        "\n",
        "#Dapat Diindeks/Slicing\n",
        "print(\"Slicing List S1:\", S1[2])\n",
        "\n",
        "#Dapat Diijinkan Duplikasi\n",
        "S1 = [0, \"satu\", True, 1+3j, 1+3j]\n",
        "print(\"Duplikasi pada List S1:\", S1)"
      ],
      "execution_count": null,
      "outputs": [
        {
          "output_type": "stream",
          "name": "stdout",
          "text": [
            "Memanggil List S1 dengan indeks urutan: [0, 3, 7]\n",
            "List S1 setelah diganti elemennya: [0, 1, 7, 9]\n",
            "Slicing List S1: True\n",
            "Duplikasi pada List S1: [0, 'satu', True, (1+3j), (1+3j)]\n"
          ]
        }
      ]
    }
  ]
}