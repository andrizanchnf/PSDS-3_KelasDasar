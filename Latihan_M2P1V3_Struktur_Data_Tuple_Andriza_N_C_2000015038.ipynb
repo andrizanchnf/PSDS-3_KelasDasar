{
  "nbformat": 4,
  "nbformat_minor": 0,
  "metadata": {
    "colab": {
      "name": "Latihan_M2P1V3_Struktur_Data_Tuple_Andriza_N_C_2000015038.ipynb",
      "provenance": [],
      "collapsed_sections": [],
      "authorship_tag": "ABX9TyPKypFlmnw79qeyVMvE2gAm",
      "include_colab_link": true
    },
    "kernelspec": {
      "name": "python3",
      "display_name": "Python 3"
    },
    "language_info": {
      "name": "python"
    }
  },
  "cells": [
    {
      "cell_type": "markdown",
      "metadata": {
        "id": "view-in-github",
        "colab_type": "text"
      },
      "source": [
        "<a href=\"https://colab.research.google.com/github/andrizanchnf/PSDS-3_KelasDasar/blob/main/Latihan_M2P1V3_Struktur_Data_Tuple_Andriza_N_C_2000015038.ipynb\" target=\"_parent\"><img src=\"https://colab.research.google.com/assets/colab-badge.svg\" alt=\"Open In Colab\"/></a>"
      ]
    },
    {
      "cell_type": "markdown",
      "metadata": {
        "id": "cuSP4Irbv7kM"
      },
      "source": [
        "Latihan 1"
      ]
    },
    {
      "cell_type": "code",
      "metadata": {
        "id": "gOOm91Z7rX-a",
        "colab": {
          "base_uri": "https://localhost:8080/"
        },
        "outputId": "91b192d5-986e-481a-a306-9aaf1ee44c96"
      },
      "source": [
        "#Membuat Tuple\n",
        "G1 = (0, \"satu\", True, 2j)\n",
        "print(\"latihan tuple\", G1)"
      ],
      "execution_count": null,
      "outputs": [
        {
          "output_type": "stream",
          "name": "stdout",
          "text": [
            "latihan tuple (0, 'satu', True, 2j)\n"
          ]
        }
      ]
    },
    {
      "cell_type": "code",
      "metadata": {
        "colab": {
          "base_uri": "https://localhost:8080/"
        },
        "id": "Ao5bXaa8xzxH",
        "outputId": "33af54c3-fa65-4e86-fa63-9d83d6209aa4"
      },
      "source": [
        "#Menampilkan tipe struktur data\n",
        "type(G1)"
      ],
      "execution_count": null,
      "outputs": [
        {
          "output_type": "execute_result",
          "data": {
            "text/plain": [
              "tuple"
            ]
          },
          "metadata": {},
          "execution_count": 2
        }
      ]
    },
    {
      "cell_type": "markdown",
      "metadata": {
        "id": "P8Uk2V67x2wC"
      },
      "source": [
        "Latihan 2"
      ]
    },
    {
      "cell_type": "code",
      "metadata": {
        "colab": {
          "base_uri": "https://localhost:8080/"
        },
        "id": "t3iMPDrYx4CL",
        "outputId": "a88e77e6-c30d-479b-d39d-7edef6dd2a6f"
      },
      "source": [
        "#Membuat Tuple yang kedua\n",
        "\n",
        "G2 = (2, 1.3, True, 0.7)\n",
        "G2"
      ],
      "execution_count": null,
      "outputs": [
        {
          "output_type": "execute_result",
          "data": {
            "text/plain": [
              "(2, 1.3, True, 0.7)"
            ]
          },
          "metadata": {},
          "execution_count": 3
        }
      ]
    },
    {
      "cell_type": "code",
      "metadata": {
        "colab": {
          "base_uri": "https://localhost:8080/"
        },
        "id": "qcKjpUnAx60C",
        "outputId": "898022f3-c9a9-4c32-aacc-07a3f8e798f3"
      },
      "source": [
        "#Menggabungkan Tuple\n",
        "\n",
        "G3 = G1 + G2\n",
        "G3"
      ],
      "execution_count": null,
      "outputs": [
        {
          "output_type": "execute_result",
          "data": {
            "text/plain": [
              "(0, 'satu', True, 2j, 2, 1.3, True, 0.7)"
            ]
          },
          "metadata": {},
          "execution_count": 4
        }
      ]
    }
  ]
}