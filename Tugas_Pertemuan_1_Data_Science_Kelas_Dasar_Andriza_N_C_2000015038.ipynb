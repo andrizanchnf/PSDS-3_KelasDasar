{
  "nbformat": 4,
  "nbformat_minor": 0,
  "metadata": {
    "colab": {
      "name": "Tugas Pertemuan 1 Data Science Kelas Dasar_Andriza N C_2000015038.ipynb",
      "provenance": [],
      "collapsed_sections": [],
      "authorship_tag": "ABX9TyNroO5NJ70nn4O60ueJEDEp",
      "include_colab_link": true
    },
    "kernelspec": {
      "name": "python3",
      "display_name": "Python 3"
    },
    "language_info": {
      "name": "python"
    }
  },
  "cells": [
    {
      "cell_type": "markdown",
      "metadata": {
        "id": "view-in-github",
        "colab_type": "text"
      },
      "source": [
        "<a href=\"https://colab.research.google.com/github/andrizanchnf/PSDS-3_KelasDasar/blob/main/Tugas_Pertemuan_1_Data_Science_Kelas_Dasar_Andriza_N_C_2000015038.ipynb\" target=\"_parent\"><img src=\"https://colab.research.google.com/assets/colab-badge.svg\" alt=\"Open In Colab\"/></a>"
      ]
    },
    {
      "cell_type": "markdown",
      "metadata": {
        "id": "6y_Wcl_g87h5"
      },
      "source": [
        "Statements"
      ]
    },
    {
      "cell_type": "code",
      "metadata": {
        "colab": {
          "base_uri": "https://localhost:8080/"
        },
        "id": "z1w2NWPa78qB",
        "outputId": "7b3d92d8-421f-4a84-e6a5-ac5913e56372"
      },
      "source": [
        "print(\"belajar Python menyenangkan\")\n",
        "print(\"halo dunia\")"
      ],
      "execution_count": null,
      "outputs": [
        {
          "output_type": "stream",
          "name": "stdout",
          "text": [
            "belajar Python menyenangkan\n",
            "halo dunia\n"
          ]
        }
      ]
    },
    {
      "cell_type": "markdown",
      "metadata": {
        "id": "iC83XM-t9R4Y"
      },
      "source": [
        "Variables"
      ]
    },
    {
      "cell_type": "code",
      "metadata": {
        "id": "Qh-DJXnB9T6x"
      },
      "source": [
        "bilangan1 = 5\n",
        "bilangan2 = 10\n",
        "kalimat = \"Pejuang Data 3\""
      ],
      "execution_count": null,
      "outputs": []
    },
    {
      "cell_type": "markdown",
      "metadata": {
        "id": "djXPkRqY9jlq"
      },
      "source": [
        "Operators"
      ]
    },
    {
      "cell_type": "code",
      "metadata": {
        "colab": {
          "base_uri": "https://localhost:8080/"
        },
        "id": "wFfJWfGb9rDq",
        "outputId": "9f1986f7-369c-4147-8a04-49f3194cd7b1"
      },
      "source": [
        "bilangan1 + bilangan2"
      ],
      "execution_count": null,
      "outputs": [
        {
          "output_type": "execute_result",
          "data": {
            "text/plain": [
              "15"
            ]
          },
          "metadata": {},
          "execution_count": 3
        }
      ]
    },
    {
      "cell_type": "markdown",
      "metadata": {
        "id": "B8owI85n9wDE"
      },
      "source": [
        "Comments"
      ]
    },
    {
      "cell_type": "markdown",
      "metadata": {
        "id": "RqlkvJSy914h"
      },
      "source": [
        "a. single line comment"
      ]
    },
    {
      "cell_type": "code",
      "metadata": {
        "colab": {
          "base_uri": "https://localhost:8080/"
        },
        "id": "1Cx5z6-B94t5",
        "outputId": "be816f87-f581-4a70-a3f9-1af65a91be62"
      },
      "source": [
        "# Ini adalah Comment\n",
        "print(\"belajar Python\")"
      ],
      "execution_count": null,
      "outputs": [
        {
          "output_type": "stream",
          "name": "stdout",
          "text": [
            "belajar Python\n"
          ]
        }
      ]
    },
    {
      "cell_type": "markdown",
      "metadata": {
        "id": "EmXwTMgh-BuN"
      },
      "source": [
        "b. multi line comment"
      ]
    },
    {
      "cell_type": "code",
      "metadata": {
        "colab": {
          "base_uri": "https://localhost:8080/"
        },
        "id": "eNJFr76s-IKy",
        "outputId": "7894ebc7-d131-4c43-f855-a82e1cb6dc3f"
      },
      "source": [
        "'''\n",
        "Ini adalah komentar panjang\n",
        "Bisa digunakan untuk memberikan penjelasan\n",
        "panjang pada Sell Kode Python,\n",
        "Misal dokumentasi program, spesifikasi\n",
        "input output atau lainnya\n",
        "'''\n",
        "\n",
        "print('Belajar Python menyenangkan')"
      ],
      "execution_count": null,
      "outputs": [
        {
          "output_type": "stream",
          "name": "stdout",
          "text": [
            "Belajar Python menyenangkan\n"
          ]
        }
      ]
    }
  ]
}